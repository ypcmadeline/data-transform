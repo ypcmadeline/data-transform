{
 "cells": [
  {
   "cell_type": "code",
   "execution_count": 1,
   "metadata": {},
   "outputs": [],
   "source": [
    "import pyspark\n",
    "sc = pyspark.SparkContext(appName = \"MyAPP\")\n",
    "from pyspark.sql.functions import *\n",
    "from pyspark.sql.session import SparkSession\n",
    "spark = SparkSession(sc)"
   ]
  },
  {
   "cell_type": "code",
   "execution_count": 2,
   "metadata": {},
   "outputs": [],
   "source": [
    "df = spark.read.csv('2019-Oct.csv', header=True, inferSchema=True).limit(100000)"
   ]
  },
  {
   "cell_type": "code",
   "execution_count": 3,
   "metadata": {},
   "outputs": [],
   "source": [
    "#drop rows with null value on category_code and brand\n",
    "df = df.where(\"category_code is not null and brand is not null\")"
   ]
  },
  {
   "cell_type": "code",
   "execution_count": 4,
   "metadata": {},
   "outputs": [],
   "source": [
    "#event_type count during each user_session \n",
    "dactivity = df.groupBy('user_session').count()"
   ]
  },
  {
   "cell_type": "code",
   "execution_count": 5,
   "metadata": {},
   "outputs": [],
   "source": [
    "#select rows of event_type = 'cart' or event_type = 'purchase'\n",
    "#drop duplicates rows based on ['event_type', 'product_id','price', 'user_id','user_session']\n",
    "df = df.select('*').where(\"event_type = 'cart' or event_type = 'purchase'\").dropDuplicates(subset = ['event_type', 'product_id','price', 'user_id','user_session'])"
   ]
  },
  {
   "cell_type": "code",
   "execution_count": 6,
   "metadata": {},
   "outputs": [],
   "source": [
    "#add new column is_purchased if event_type = purchase then 1 else 0\n",
    "df = df.withColumn('is_purchased', when(col('event_type') == 'purchase', 1).otherwise(0))"
   ]
  },
  {
   "cell_type": "code",
   "execution_count": 7,
   "metadata": {},
   "outputs": [],
   "source": [
    "#chop the dataset into 2 sets by event_type\n",
    "da = df.select('*').where(\"event_type = 'cart'\")\n",
    "db = df.select('*').where(\"event_type = 'purchase'\")"
   ]
  },
  {
   "cell_type": "code",
   "execution_count": 8,
   "metadata": {},
   "outputs": [],
   "source": [
    "#left join rows of cart with rows of purchase, update the is_purchased of cart to is_purchased of corresponding purchase with key ['user_session', 'product_id']\n",
    "#only consider goods put into cart and be purchased afterward\n",
    "import pyspark.sql.functions as f\n",
    "\n",
    "dr=da.alias('a').join(\n",
    "    db.alias('b'), ['user_session', 'product_id'], how='left'\n",
    ").select('user_session', 'product_id', 'a.event_time', 'a.event_type', 'a.product_id', 'a.category_id', 'a.category_code', 'a.brand', 'a.price', 'a.user_id',\n",
    "    f.coalesce('b.is_purchased', 'a.is_purchased').alias('is_purchased')\n",
    ")"
   ]
  },
  {
   "cell_type": "code",
   "execution_count": 9,
   "metadata": {},
   "outputs": [],
   "source": [
    "#join the activity_count\n",
    "dr=dr.join(dactivity, 'user_session') \\\n",
    "  .select('*') \\\n",
    "  .withColumnRenamed('count', 'activity_count')"
   ]
  },
  {
   "cell_type": "code",
   "execution_count": 10,
   "metadata": {},
   "outputs": [],
   "source": [
    "#split the category_code by .\n",
    "dr = dr.select('*', split('category_code',\"\\\\.\")[0], split('category_code',\"\\\\.\")[1], split('category_code',\"\\\\.\")[2])\\\n",
    "  .withColumnRenamed('split(category_code, \\., -1)[0]', 'category_code_level1') \\\n",
    "  .withColumnRenamed('split(category_code, \\., -1)[1]', 'category_code_level2') \\\n",
    "  .withColumnRenamed('split(category_code, \\., -1)[2]', 'category_code_level4')"
   ]
  },
  {
   "cell_type": "code",
   "execution_count": 11,
   "metadata": {},
   "outputs": [],
   "source": [
    "#add new field week_day and category_code_level3 to category_code_level2 if category_code_level4 is null\n",
    "dr = dr.select('*', dayofweek(col('event_time')).alias('week_day'), f.coalesce('category_code_level2', 'category_code_level4').alias('category_code_level3'))"
   ]
  },
  {
   "cell_type": "code",
   "execution_count": 12,
   "metadata": {},
   "outputs": [
    {
     "name": "stdout",
     "output_type": "stream",
     "text": [
      "+--------------------+----------+--------------------+----------+----------+-------------------+--------------------+-------+-------+---------+------------+--------------+--------------------+--------------------+--------------------+--------+--------------------+----------+--------------------------+--------------------------+--------------------------+\n",
      "|        user_session|product_id|          event_time|event_type|product_id|        category_id|       category_code|  brand|  price|  user_id|is_purchased|activity_count|category_code_level1|category_code_level2|category_code_level4|week_day|category_code_level3|brandIndex|category_code_level1_index|category_code_level2_index|category_code_level3_index|\n",
      "+--------------------+----------+--------------------+----------+----------+-------------------+--------------------+-------+-------+---------+------------+--------------+--------------------+--------------------+--------------------+--------+--------------------+----------+--------------------------+--------------------------+--------------------------+\n",
      "|010f6005-cb1c-4a7...|   3601489|2019-10-01 03:49:...|      cart|   3601489|2053013563810775923|appliances.kitche...|samsung| 476.18|550367893|           0|             8|          appliances|             kitchen|              washer|       3|             kitchen|       0.0|                       1.0|                       5.0|                       5.0|\n",
      "|012c56b8-40a6-41b...|   1004870|2019-10-01 04:11:...|      cart|   1004870|2053013555631882655|electronics.smart...|samsung| 286.86|523704754|           0|             5|         electronics|          smartphone|                null|       3|          smartphone|       0.0|                       0.0|                       0.0|                       0.0|\n",
      "|01951a03-9d03-4f4...|   1005008|2019-10-01 03:57:...|      cart|   1005008|2053013555631882655|electronics.smart...| xiaomi| 103.08|516734801|           0|             4|         electronics|          smartphone|                null|       3|          smartphone|       2.0|                       0.0|                       0.0|                       0.0|\n",
      "|01d9b508-1e1d-4ca...|   1307073|2019-10-01 04:12:...|      cart|   1307073|2053013558920217191|  computers.notebook|   acer|  669.0|550000136|           1|             7|           computers|            notebook|                null|       3|            notebook|      11.0|                       2.0|                      11.0|                      11.0|\n",
      "|021c155d-0484-4ae...|   1004035|2019-10-01 03:28:...|      cart|   1004035|2053013555631882655|electronics.smart...|  nokia| 115.55|512906628|           1|             6|         electronics|          smartphone|                null|       3|          smartphone|       7.0|                       0.0|                       0.0|                       0.0|\n",
      "|02f24adf-a95a-440...|   1005115|2019-10-01 03:15:...|      cart|   1005115|2053013555631882655|electronics.smart...|  apple| 975.57|525170955|           1|             5|         electronics|          smartphone|                null|       3|          smartphone|       1.0|                       0.0|                       0.0|                       0.0|\n",
      "|036d4ad9-f4e2-4a2...|   1004856|2019-10-01 02:40:...|      cart|   1004856|2053013555631882655|electronics.smart...|samsung| 130.76|533758539|           1|             8|         electronics|          smartphone|                null|       3|          smartphone|       0.0|                       0.0|                       0.0|                       0.0|\n",
      "|0409debe-3af9-43b...|   1004767|2019-10-01 04:24:...|      cart|   1004767|2053013555631882655|electronics.smart...|samsung| 254.76|535844712|           1|             4|         electronics|          smartphone|                null|       3|          smartphone|       0.0|                       0.0|                       0.0|                       0.0|\n",
      "|040a3af4-91c2-4f8...|   1004210|2019-10-01 03:12:...|      cart|   1004210|2053013555631882655|electronics.smart...|samsung|  95.21|516204128|           1|             7|         electronics|          smartphone|                null|       3|          smartphone|       0.0|                       0.0|                       0.0|                       0.0|\n",
      "|040d0e0b-0a40-4d4...|   1005073|2019-10-01 03:03:...|      cart|   1005073|2053013555631882655|electronics.smart...|samsung|1206.45|530834332|           1|             7|         electronics|          smartphone|                null|       3|          smartphone|       0.0|                       0.0|                       0.0|                       0.0|\n",
      "|0431fbaf-f2fb-4ef...|   1004856|2019-10-01 03:10:...|      cart|   1004856|2053013555631882655|electronics.smart...|samsung| 130.76|519262835|           1|             4|         electronics|          smartphone|                null|       3|          smartphone|       0.0|                       0.0|                       0.0|                       0.0|\n",
      "|047e1cc0-6188-4c9...|   1004833|2019-10-01 02:42:...|      cart|   1004833|2053013555631882655|electronics.smart...|samsung| 174.76|516201757|           1|             6|         electronics|          smartphone|                null|       3|          smartphone|       0.0|                       0.0|                       0.0|                       0.0|\n",
      "|04a01207-c0e6-4de...|   1004836|2019-10-01 03:43:...|      cart|   1004836|2053013555631882655|electronics.smart...|samsung| 241.18|541769750|           0|             4|         electronics|          smartphone|                null|       3|          smartphone|       0.0|                       0.0|                       0.0|                       0.0|\n",
      "|050197a5-b5bf-4da...|   1004870|2019-10-01 03:21:...|      cart|   1004870|2053013555631882655|electronics.smart...|samsung| 286.86|528054617|           0|             7|         electronics|          smartphone|                null|       3|          smartphone|       0.0|                       0.0|                       0.0|                       0.0|\n",
      "|058aa044-1a7f-46b...|   1004957|2019-10-01 03:43:...|      cart|   1004957|2053013555631882655|electronics.smart...| xiaomi| 348.53|533471398|           1|             7|         electronics|          smartphone|                null|       3|          smartphone|       2.0|                       0.0|                       0.0|                       0.0|\n",
      "|05af6cc9-98e0-4be...|   1004857|2019-10-01 03:48:...|      cart|   1004857|2053013555631882655|electronics.smart...|samsung| 130.73|542625556|           0|             6|         electronics|          smartphone|                null|       3|          smartphone|       0.0|                       0.0|                       0.0|                       0.0|\n",
      "|05c626b9-1d3a-41f...|   1004873|2019-10-01 03:49:...|      cart|   1004873|2053013555631882655|electronics.smart...|samsung| 388.81|513711993|           1|             4|         electronics|          smartphone|                null|       3|          smartphone|       0.0|                       0.0|                       0.0|                       0.0|\n",
      "|05d1d427-5e88-40e...|   1004838|2019-10-01 03:29:...|      cart|   1004838|2053013555631882655|electronics.smart...|   oppo| 179.36|516068837|           1|             5|         electronics|          smartphone|                null|       3|          smartphone|       4.0|                       0.0|                       0.0|                       0.0|\n",
      "|05df3fd7-6b4d-42b...|   1005124|2019-10-01 04:06:...|      cart|   1005124|2053013555631882655|electronics.smart...|  apple|1634.51|513398680|           0|             4|         electronics|          smartphone|                null|       3|          smartphone|       1.0|                       0.0|                       0.0|                       0.0|\n",
      "|06004fad-9ff1-4e3...|   1004357|2019-10-01 04:15:...|      cart|   1004357|2053013555631882655|electronics.smart...|  apple|1433.76|530189652|           1|             3|         electronics|          smartphone|                null|       3|          smartphone|       1.0|                       0.0|                       0.0|                       0.0|\n",
      "+--------------------+----------+--------------------+----------+----------+-------------------+--------------------+-------+-------+---------+------------+--------------+--------------------+--------------------+--------------------+--------+--------------------+----------+--------------------------+--------------------------+--------------------------+\n",
      "only showing top 20 rows\n",
      "\n"
     ]
    }
   ],
   "source": [
    "#tranform the string fields 'brand', 'category_code_level1', 'category_code_level2','category_code_level3' with StringIndexer for ML\n",
    "from pyspark.ml.feature import StringIndexer\n",
    "\n",
    "indexer = StringIndexer(inputCols=['brand', 'category_code_level1', 'category_code_level2','category_code_level3'], outputCols=['brandIndex', 'category_code_level1_index', 'category_code_level2_index','category_code_level3_index'])\n",
    "dindexed = indexer.fit(dr).transform(dr)\n",
    "dindexed.show()"
   ]
  },
  {
   "cell_type": "code",
   "execution_count": 13,
   "metadata": {},
   "outputs": [],
   "source": [
    "#finally select the result for training\n",
    "dresult = dindexed.select('event_time','event_type','product_id','category_id','category_code','brandIndex',\n",
    "                        'price','user_id','user_session','is_purchased','week_day',\n",
    "                        'category_code_level1_index','category_code_level1_index','category_code_level3_index', 'activity_count') \\\n",
    "                 .withColumnRenamed('brandIndex', 'brand') \\\n",
    "                 .withColumnRenamed('category_code_level1_index', 'category_code_level1') \\\n",
    "                 .withColumnRenamed('category_code_level2_index', 'category_code_level2') \\\n",
    "                 .withColumnRenamed('category_code_level3_index', 'category_code_level3')"
   ]
  },
  {
   "cell_type": "code",
   "execution_count": 14,
   "metadata": {},
   "outputs": [
    {
     "name": "stdout",
     "output_type": "stream",
     "text": [
      "+--------------------+----------+----------+-------------------+--------------------+-----+-------+---------+--------------------+------------+--------+--------------------+--------------------+--------------------+--------------+\n",
      "|          event_time|event_type|product_id|        category_id|       category_code|brand|  price|  user_id|        user_session|is_purchased|week_day|category_code_level1|category_code_level1|category_code_level3|activity_count|\n",
      "+--------------------+----------+----------+-------------------+--------------------+-----+-------+---------+--------------------+------------+--------+--------------------+--------------------+--------------------+--------------+\n",
      "|2019-10-01 03:49:...|      cart|   3601489|2053013563810775923|appliances.kitche...|  0.0| 476.18|550367893|010f6005-cb1c-4a7...|           0|       3|                 1.0|                 1.0|                 5.0|             8|\n",
      "|2019-10-01 04:11:...|      cart|   1004870|2053013555631882655|electronics.smart...|  0.0| 286.86|523704754|012c56b8-40a6-41b...|           0|       3|                 0.0|                 0.0|                 0.0|             5|\n",
      "|2019-10-01 03:57:...|      cart|   1005008|2053013555631882655|electronics.smart...|  2.0| 103.08|516734801|01951a03-9d03-4f4...|           0|       3|                 0.0|                 0.0|                 0.0|             4|\n",
      "|2019-10-01 04:12:...|      cart|   1307073|2053013558920217191|  computers.notebook| 11.0|  669.0|550000136|01d9b508-1e1d-4ca...|           1|       3|                 2.0|                 2.0|                11.0|             7|\n",
      "|2019-10-01 03:28:...|      cart|   1004035|2053013555631882655|electronics.smart...|  7.0| 115.55|512906628|021c155d-0484-4ae...|           1|       3|                 0.0|                 0.0|                 0.0|             6|\n",
      "|2019-10-01 03:15:...|      cart|   1005115|2053013555631882655|electronics.smart...|  1.0| 975.57|525170955|02f24adf-a95a-440...|           1|       3|                 0.0|                 0.0|                 0.0|             5|\n",
      "|2019-10-01 02:40:...|      cart|   1004856|2053013555631882655|electronics.smart...|  0.0| 130.76|533758539|036d4ad9-f4e2-4a2...|           1|       3|                 0.0|                 0.0|                 0.0|             8|\n",
      "|2019-10-01 04:24:...|      cart|   1004767|2053013555631882655|electronics.smart...|  0.0| 254.76|535844712|0409debe-3af9-43b...|           1|       3|                 0.0|                 0.0|                 0.0|             4|\n",
      "|2019-10-01 03:12:...|      cart|   1004210|2053013555631882655|electronics.smart...|  0.0|  95.21|516204128|040a3af4-91c2-4f8...|           1|       3|                 0.0|                 0.0|                 0.0|             7|\n",
      "|2019-10-01 03:03:...|      cart|   1005073|2053013555631882655|electronics.smart...|  0.0|1206.45|530834332|040d0e0b-0a40-4d4...|           1|       3|                 0.0|                 0.0|                 0.0|             7|\n",
      "|2019-10-01 03:10:...|      cart|   1004856|2053013555631882655|electronics.smart...|  0.0| 130.76|519262835|0431fbaf-f2fb-4ef...|           1|       3|                 0.0|                 0.0|                 0.0|             4|\n",
      "|2019-10-01 02:42:...|      cart|   1004833|2053013555631882655|electronics.smart...|  0.0| 174.76|516201757|047e1cc0-6188-4c9...|           1|       3|                 0.0|                 0.0|                 0.0|             6|\n",
      "|2019-10-01 03:43:...|      cart|   1004836|2053013555631882655|electronics.smart...|  0.0| 241.18|541769750|04a01207-c0e6-4de...|           0|       3|                 0.0|                 0.0|                 0.0|             4|\n",
      "|2019-10-01 03:21:...|      cart|   1004870|2053013555631882655|electronics.smart...|  0.0| 286.86|528054617|050197a5-b5bf-4da...|           0|       3|                 0.0|                 0.0|                 0.0|             7|\n",
      "|2019-10-01 03:43:...|      cart|   1004957|2053013555631882655|electronics.smart...|  2.0| 348.53|533471398|058aa044-1a7f-46b...|           1|       3|                 0.0|                 0.0|                 0.0|             7|\n",
      "|2019-10-01 03:48:...|      cart|   1004857|2053013555631882655|electronics.smart...|  0.0| 130.73|542625556|05af6cc9-98e0-4be...|           0|       3|                 0.0|                 0.0|                 0.0|             6|\n",
      "|2019-10-01 03:49:...|      cart|   1004873|2053013555631882655|electronics.smart...|  0.0| 388.81|513711993|05c626b9-1d3a-41f...|           1|       3|                 0.0|                 0.0|                 0.0|             4|\n",
      "|2019-10-01 03:29:...|      cart|   1004838|2053013555631882655|electronics.smart...|  4.0| 179.36|516068837|05d1d427-5e88-40e...|           1|       3|                 0.0|                 0.0|                 0.0|             5|\n",
      "|2019-10-01 04:06:...|      cart|   1005124|2053013555631882655|electronics.smart...|  1.0|1634.51|513398680|05df3fd7-6b4d-42b...|           0|       3|                 0.0|                 0.0|                 0.0|             4|\n",
      "|2019-10-01 04:15:...|      cart|   1004357|2053013555631882655|electronics.smart...|  1.0|1433.76|530189652|06004fad-9ff1-4e3...|           1|       3|                 0.0|                 0.0|                 0.0|             3|\n",
      "+--------------------+----------+----------+-------------------+--------------------+-----+-------+---------+--------------------+------------+--------+--------------------+--------------------+--------------------+--------------+\n",
      "only showing top 20 rows\n",
      "\n"
     ]
    }
   ],
   "source": [
    "dresult.show()"
   ]
  },
  {
   "cell_type": "code",
   "execution_count": 15,
   "metadata": {},
   "outputs": [
    {
     "name": "stdout",
     "output_type": "stream",
     "text": [
      "+------------+-----+\n",
      "|is_purchased|count|\n",
      "+------------+-----+\n",
      "|           1|  432|\n",
      "|           0|  337|\n",
      "+------------+-----+\n",
      "\n"
     ]
    }
   ],
   "source": [
    "dresult.groupBy('is_purchased').count().show()"
   ]
  },
  {
   "cell_type": "code",
   "execution_count": null,
   "metadata": {},
   "outputs": [],
   "source": []
  }
 ],
 "metadata": {
  "kernelspec": {
   "display_name": "Python 3",
   "language": "python",
   "name": "python3"
  },
  "language_info": {
   "codemirror_mode": {
    "name": "ipython",
    "version": 3
   },
   "file_extension": ".py",
   "mimetype": "text/x-python",
   "name": "python",
   "nbconvert_exporter": "python",
   "pygments_lexer": "ipython3",
   "version": "3.8.6"
  }
 },
 "nbformat": 4,
 "nbformat_minor": 4
}
